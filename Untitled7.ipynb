{
  "nbformat": 4,
  "nbformat_minor": 0,
  "metadata": {
    "colab": {
      "provenance": [],
      "authorship_tag": "ABX9TyP1If74BySKFucGfAAOCbu3",
      "include_colab_link": true
    },
    "kernelspec": {
      "name": "python3",
      "display_name": "Python 3"
    },
    "language_info": {
      "name": "python"
    }
  },
  "cells": [
    {
      "cell_type": "markdown",
      "metadata": {
        "id": "view-in-github",
        "colab_type": "text"
      },
      "source": [
        "<a href=\"https://colab.research.google.com/github/anchaljethliya/Javascript_learning/blob/main/Untitled7.ipynb\" target=\"_parent\"><img src=\"https://colab.research.google.com/assets/colab-badge.svg\" alt=\"Open In Colab\"/></a>"
      ]
    },
    {
      "cell_type": "code",
      "execution_count": 2,
      "metadata": {
        "colab": {
          "base_uri": "https://localhost:8080/",
          "height": 0
        },
        "id": "gCpVaDPHpTBC",
        "outputId": "f6fde95c-74c7-4357-d584-38fd594f1ed8"
      },
      "outputs": [
        {
          "output_type": "stream",
          "name": "stdout",
          "text": [
            "Steps to get 2 gallons in the 4-gallon jug:\n",
            "(0, 0)\n",
            "(4, 0)\n",
            "(1, 3)\n",
            "(1, 0)\n",
            "(0, 1)\n",
            "(4, 1)\n",
            "(2, 3)\n"
          ]
        }
      ],
      "source": [
        "from collections import deque\n",
        "\n",
        "def water_jug_problem(jug1_capacity, jug2_capacity, target):\n",
        "    \"\"\"\n",
        "    Solves the water jug problem using Breadth-First Search.\n",
        "\n",
        "    Args:\n",
        "        jug1_capacity: Capacity of the first jug.\n",
        "        jug2_capacity: Capacity of the second jug.\n",
        "        target: Target amount of water in the first jug.\n",
        "\n",
        "    Returns:\n",
        "        A list of tuples representing the steps to achieve the target amount,\n",
        "        or None if no solution is found.\n",
        "    \"\"\"\n",
        "\n",
        "    visited = set()\n",
        "    queue = deque([(0, 0, [])])  # (jug1_level, jug2_level, path)\n",
        "\n",
        "    while queue:\n",
        "        jug1_level, jug2_level, path = queue.popleft()\n",
        "\n",
        "        # If this state has already been visited, skip it.\n",
        "        if (jug1_level, jug2_level) in visited:\n",
        "            continue\n",
        "        visited.add((jug1_level, jug2_level))\n",
        "\n",
        "        # If we reached the target, return the path\n",
        "        if jug1_level == target:\n",
        "            return path + [(jug1_level, jug2_level)]\n",
        "\n",
        "        # List of possible states from the current state\n",
        "        possible_states = [\n",
        "            (jug1_capacity, jug2_level),  # Fill jug1\n",
        "            (jug1_level, jug2_capacity),  # Fill jug2\n",
        "            (0, jug2_level),  # Empty jug1\n",
        "            (jug1_level, 0),  # Empty jug2\n",
        "            (jug1_level - min(jug1_level, jug2_capacity - jug2_level), jug2_level + min(jug1_level, jug2_capacity - jug2_level)),  # Pour jug1 -> jug2\n",
        "            (jug1_level + min(jug2_level, jug1_capacity - jug1_level), jug2_level - min(jug2_level, jug1_capacity - jug1_level))  # Pour jug2 -> jug1\n",
        "        ]\n",
        "\n",
        "        # Add the next possible states to the queue with updated path\n",
        "        for state in possible_states:\n",
        "            queue.append((state[0], state[1], path + [(jug1_level, jug2_level)]))\n",
        "\n",
        "    return None  # No solution found\n",
        "\n",
        "# Example usage:\n",
        "jug1_capacity = 4\n",
        "jug2_capacity = 3\n",
        "target_amount = 2\n",
        "\n",
        "solution = water_jug_problem(jug1_capacity, jug2_capacity, target_amount)\n",
        "\n",
        "if solution:\n",
        "    print(\"Steps to get\", target_amount, \"gallons in the 4-gallon jug:\")\n",
        "    for step in solution:\n",
        "        print(step)\n",
        "else:\n",
        "    print(\"No solution found.\")\n"
      ]
    },
    {
      "cell_type": "code",
      "source": [],
      "metadata": {
        "id": "CkfAUEn6pag1"
      },
      "execution_count": null,
      "outputs": []
    }
  ]
}